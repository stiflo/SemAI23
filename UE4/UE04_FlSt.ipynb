{
  "nbformat": 4,
  "nbformat_minor": 0,
  "metadata": {
    "colab": {
      "provenance": []
    },
    "kernelspec": {
      "name": "python3",
      "display_name": "Python 3"
    },
    "language_info": {
      "name": "python"
    }
  },
  "cells": [
    {
      "cell_type": "markdown",
      "source": [
        "Course Instructor: Bernd Neumayr, JKU\n",
        "\n",
        "# UE04- SPARQL Updata and RDF Datasets\n",
        "\n",
        "Complete the **8 tasks (1 point per task)** in the `3. SPARQL Update` sheet of `SemAI.jar` first and then transfer them to this notebook.\n",
        "\n",
        "For each task include:\n",
        "- A headline including the task number\n",
        "- The task description \n",
        "- Your solution in executable form: your solutions for SemAI.jar will make use of the default grap. In this notebook you have to transform your solutions according to the workaround exemplified in V04_SPARQL_Update.ipynb\n",
        "- After executing the update request, print a serizalization of the dataset in TriG format.  \n",
        "\n",
        "**Task 9 (2 points)**  is to develop a nice visualization of RDF datasets using `visualize_graph_pyvis` from UE02 as a starting point. The requirements are as follows:\n",
        "- Each named graph must be represented as an independent graph. This means, for example, that :Jane in :JanesGraph is a different node than :Jane in :BillsGraph. There are no edges between nodes in different graphs.\n",
        "- It is not strictly necessary to draw a box around each named graph, as seen in the slides. The different named graphs should simply be visually distinguishable and not overlap.\n",
        "- If not all nodes within a named graph are connected, make sure in the visualization that the named graph still forms a coherent visual unit in some way."
      ],
      "metadata": {
        "id": "HnpijZy2D1Hd"
      }
    },
    {
      "cell_type": "markdown",
      "source": [
        "##Preparations"
      ],
      "metadata": {
        "id": "OD1EA9aQxoFV"
      }
    },
    {
      "cell_type": "code",
      "source": [
        "# Install required packages\n",
        "!pip install -q rdflib     # comment to avoid re-install with every re-run"
      ],
      "metadata": {
        "id": "yohhw6QTxq7v"
      },
      "execution_count": null,
      "outputs": []
    },
    {
      "cell_type": "markdown",
      "source": [
        "##Imports and Functions\n",
        "We are re-using the sparql_select function."
      ],
      "metadata": {
        "id": "7wijCI1Oxwwl"
      }
    },
    {
      "cell_type": "code",
      "source": [
        "# Imports\n",
        "import pandas as pd\n",
        "import rdflib\n",
        "from rdflib import Graph, Literal, RDF, URIRef, BNode, Namespace\n",
        "\n",
        "\n",
        "# Convenient Functions\n",
        "def sparql_select(graph,query,use_prefixes=True):\n",
        "  results = graph.query(query)          # execute the query against the graph, resulting in a rdflib.plugins.sparql.processor.SPARQLResult\n",
        "  rows = []                             # a list of dictionaries, as intermediate format to construct the pandas DataFrame\n",
        "  for result in results:                # iterate over the result set of the query, a result is an instance of rdflib.query.ResultRow\n",
        "    row = {}                            #     create a dictionary to hold a single row of the result\n",
        "    for var in results.vars:            #     iterate over the variables of the SPARQLResult to add a dictionary entry for each variable\n",
        "      if (isinstance(result[var],URIRef) and use_prefixes):\n",
        "        row[var] = result[var].n3(graph.namespace_manager)   # use namespace prefixes to shorten URIs\n",
        "      else:\n",
        "        row[var] = result[var]                  \n",
        "    rows.append(row)                    #     add the dictionary (row) to the list \n",
        "  return pd.DataFrame(rows,columns=results.vars)        \n",
        "                                        # return a pandas DataFrame constructed from the list of dictionaries, with the variables from the result set as columns      \n"
      ],
      "metadata": {
        "id": "rT0eVeWIxzi2"
      },
      "execution_count": null,
      "outputs": []
    },
    {
      "cell_type": "markdown",
      "source": [
        "##1. Task\n",
        "\n",
        "Sie beginnen mit einem leeren Dataset. Fügen Sie in den Default Graph Statements ein, die sagen, dass :Peter der Autor von :G1 ist, und :Mary Autor von :G2."
      ],
      "metadata": {
        "id": "C6e7mBRSxIAN"
      }
    },
    {
      "cell_type": "code",
      "source": [
        "g = rdflib.Dataset()\n",
        "g.parse(format=\"trig\", data=\"\"\"\n",
        "@prefix rdf: <http://www.w3.org/1999/02/22-rdf-syntax-ns#> .\n",
        "@prefix : <http://example.org/> .\n",
        "\n",
        "\"\"\")\n",
        "\n",
        "g.update(\"\"\"\n",
        "INSERT DATA {\n",
        "     GRAPH :main {\n",
        "     :G1 :author :Mary .\n",
        "     :G2 :author :Peter .\n",
        "   }\n",
        "}\n",
        "\"\"\")\n",
        "\n",
        "print(g.serialize(format=\"trig\"))\n",
        "     "
      ],
      "metadata": {
        "id": "sYImhqPLxT8T"
      },
      "execution_count": null,
      "outputs": []
    },
    {
      "cell_type": "markdown",
      "source": [
        "##Task 2\n",
        "Schreiben Sie { :Mary :knows :Peter, :John, :Mary. } in den Named Graph :G1 und { :Peter :knows :Mary. :John :knows :Mary. } in den Named Graph :G2."
      ],
      "metadata": {
        "id": "OZy1_KphyhKg"
      }
    },
    {
      "cell_type": "code",
      "source": [
        "g.update(\"\"\"\n",
        "INSERT DATA {\n",
        "GRAPH :G1 {\n",
        "   :Mary :knows :Mary , :John , :Peter .\n",
        "}\n",
        "GRAPH :G2 {\n",
        "   :John  :knows  :Mary .\n",
        "   :Peter :knows  :Mary .\n",
        "}\n",
        "}\n",
        "\"\"\")\n",
        "\n",
        "print(g.serialize(format=\"trig\"))"
      ],
      "metadata": {
        "id": "CcNDXJ3_yhqW"
      },
      "execution_count": null,
      "outputs": []
    },
    {
      "cell_type": "markdown",
      "source": [
        "##Task 3\n",
        "Fragen Sie mittels INSERT-WHERE die :knows-Beziehungen aus :G2 ab und fügen deren inverse :knownBy-Beziehungen in den Default-Graph ein.\n",
        "Ihr Update Request darf nicht enthalten: [Mary, Peter, John]"
      ],
      "metadata": {
        "id": "so71qin0yvoN"
      }
    },
    {
      "cell_type": "code",
      "source": [
        "g.update(\"\"\"\n",
        "INSERT {GRAPH :main {?x :knownBy ?y }}\n",
        "WHERE {\n",
        "  GRAPH :G2{?y ?knows ?x}\n",
        "}\n",
        "\"\"\")\n",
        "\n",
        "print(g.serialize(format=\"trig\"))"
      ],
      "metadata": {
        "id": "3hD2eMnNy2FQ"
      },
      "execution_count": null,
      "outputs": []
    },
    {
      "cell_type": "markdown",
      "source": [
        "##Task 4\n",
        "Löschen Sie mittels DELETE-WHERE alle :knownBy-Beziehungen aus dem Default-Graph.\n",
        "Ihr Update Request darf nicht enthalten: [Mary, Peter, John]"
      ],
      "metadata": {
        "id": "GJbwxzJgy5xW"
      }
    },
    {
      "cell_type": "code",
      "source": [
        "g.update(\"\"\"\n",
        "DELETE {?x :knownBy ?y} \n",
        "WHERE {\n",
        "  GRAPH :G2{?y ?knows ?x}\n",
        "}\n",
        "\"\"\")\n",
        "\n",
        "print(g.serialize(format=\"trig\"))"
      ],
      "metadata": {
        "id": "NxseYM8Py-UW"
      },
      "execution_count": null,
      "outputs": []
    },
    {
      "cell_type": "markdown",
      "source": [
        "##Task 5\n",
        "Ermitteln Sie mittels INSERT-WHERE zu jedem Named-Graph dessen Anzahl an Statements mit der Property :knows und schreiben Sie diese in den Default Graph.\n",
        "Ihr Update Request darf nicht enthalten: [G1, G2]"
      ],
      "metadata": {
        "id": "RtiZ2tzqy-vF"
      }
    },
    {
      "cell_type": "code",
      "source": [
        "g.update(\"\"\"\n",
        "INSERT { GRAPH :main {?g :knowsCount ?c. }} \n",
        "WHERE\n",
        "{\n",
        "   SELECT ?g (COUNT(?h1) as ?c)\n",
        "   WHERE {\n",
        "      GRAPH ?g{?h1 :knows ?h2}\n",
        "   }\n",
        "   GROUP BY ?g\n",
        "}\n",
        "\"\"\")\n",
        "\n",
        "print(g.serialize(format=\"trig\"))"
      ],
      "metadata": {
        "id": "KL08VQ3vzEWn"
      },
      "execution_count": null,
      "outputs": []
    },
    {
      "cell_type": "markdown",
      "source": [
        "##Task 6\n",
        "Ermitteln Sie mittels INSERT-WHERE die Anzahl an Named Graphs und schreiben Sie sie in den Default Graph.\n",
        "Ihr Update Request darf nicht enthalten: [2]"
      ],
      "metadata": {
        "id": "Q8qUrRvXzE3l"
      }
    },
    {
      "cell_type": "code",
      "source": [
        "g.update(\"\"\"\n",
        "INSERT {GRAPH :main {:ds :graphCount ?c}}\n",
        "WHERE {\n",
        "   SELECT (COUNT(?g) AS ?c)\n",
        "   WHERE{ GRAPH ?g {}}\n",
        "}\n",
        "\"\"\")\n",
        "\n",
        "print(g.serialize(format=\"trig\"))"
      ],
      "metadata": {
        "id": "na-vwvAMzKGh"
      },
      "execution_count": null,
      "outputs": []
    },
    {
      "cell_type": "markdown",
      "source": [
        "##Task 7\n",
        "Verschieben Sie mittels DELETE-INSERT-WHERE alle Metadaten zu Named Graphs (also Statements die einen Named Graph als Subjekt haben) in den entsprechenden Named Graph.\n",
        "Ihr Update Request darf nicht enthalten: [G1, G2]\n",
        "\n"
      ],
      "metadata": {
        "id": "PD6KjgJlzKrm"
      }
    },
    {
      "cell_type": "code",
      "source": [
        "g.update(\"\"\"\n",
        "DELETE {?g ?h1_old ?h2_old}\n",
        "INSERT {GRAPH ?g{?g ?h1_new ?h2_new.}}\n",
        "WHERE {?g ?h1_old ?h2_old .\n",
        "BIND (?h1_old as ?h1_new)\n",
        "BIND (?h2_old as ?h2_new)\n",
        "FILTER (?g not in (:ds))\n",
        "}\n",
        "\n",
        "\"\"\")\n",
        "\n",
        "print(g.serialize(format=\"trig\"))"
      ],
      "metadata": {
        "id": "p4K85EmozOnl"
      },
      "execution_count": null,
      "outputs": []
    },
    {
      "cell_type": "markdown",
      "source": [
        "##Task 8\n",
        "Schreiben Sie in jeden Named Graph ein Statement, dass der Autor des jeweiligen Named Graphs die :Susi kennt und aktualisieren Sie mit dem selben UpdateRequest den knowsCount.\n",
        "Ihr Update Request darf nicht enthalten: [Peter, Mary]\n",
        "\n"
      ],
      "metadata": {
        "id": "pH2sb-xtzPFF"
      }
    },
    {
      "cell_type": "code",
      "source": [
        "g.update(\"\"\"\n",
        "DELETE {GRAPH ?g {?g :knowsCount ?c}}\n",
        "INSERT {GRAPH ?g {?a :knows :Susi}}\n",
        "WHERE {\n",
        "   SELECT ?g ?a ?c\n",
        "   WHERE {GRAPH ?g {?g :author ?a. ?g :knowsCount ?c}}\n",
        "};\n",
        "INSERT {GRAPH ?g2 {?g2 :knowsCount ?cn }}\n",
        "WHERE {\n",
        "   SELECT ?g2 (count(?h) as ?cn)\n",
        "   WHERE {GRAPH ?g2 {?h :knows ?y}}\n",
        "   GROUP BY ?g2\n",
        "}\n",
        "\"\"\")\n",
        "\n",
        "print(g.serialize(format=\"trig\"))"
      ],
      "metadata": {
        "id": "K516yinyzUOf"
      },
      "execution_count": null,
      "outputs": []
    }
  ]
}