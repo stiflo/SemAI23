{
  "nbformat": 4,
  "nbformat_minor": 0,
  "metadata": {
    "colab": {
      "provenance": []
    },
    "kernelspec": {
      "name": "python3",
      "display_name": "Python 3"
    },
    "language_info": {
      "name": "python"
    }
  },
  "cells": [
    {
      "cell_type": "markdown",
      "source": [
        "Course Instructor: Bernd Neumayr, JKU\n",
        "\n",
        "# UE09: Beispiel zu Bayesian Networks\n",
        "\n",
        "Zwei Mitarbeiter:innen (Johanna und Peter) kommen manchmal zu spät zur Arbeit. Bei Peter ist eine bekannte  Ursache des Zuspätkommens der Ausfall seines Weckers. Ein Bahnstreik kann sowohl bei Peter als auch bei Johanna ein Zuspätkommen verursachen. Erstellen Sie die Struktur des Bayes’schen Netzes mit den Zufallsvariablen JohannaLate (J), PeterLate (M), TrainStrike (T), PetersAlarmFails (A). Dies sind boolesche Zufallsvariablen, sie haben also nur True und False als mögliche Ausprägungen. Folgende (bedingte) Wahrscheinlichkeiten sind bekannt:\n",
        "\n",
        "* Die Wahrscheinlichkeit, dass Peter’s Wecker ausfällt liegt bei 10 %.\n",
        "    * P(A=true) = 0,1\n",
        "* Die Wahrscheinlichkeit eines Bahnstreiks liegt bei 5 %.\n",
        "    * P(T=true) = 0,05\n",
        "* Die Wahrscheinlichkeit dass Johanna zu spät in die Arbeit kommt liegt im Falle eines Bahnstreiks bei 50 % und sonst bei 2 %.\n",
        "    * P(J=true | T=true) = 0,5\n",
        "    * P(J=true | T=false) = 0,02\n",
        "* Die Wahrscheinlichkeit, dass Peter zu spät in die Arbeit kommt liegt im Falle eines Bahnstreiks bei 70 % bei Weckerausfall und 30 % bei funktionierendem Wecker; wenn kein Bahnstreik ist, dann liegt die Wahrscheinlichkeit seines Zuspätkommens bei 40 % bei Weckerausfall und bei 1 % wenn der Wecker funktioniert.\n",
        "    * P(P=true | T=true, A=true) = 0,7\n",
        "    * P(P=true | T=true, A=false) = 0,3\n",
        "    * P(P=true | T=false, A=true) = 0,4\n",
        "    * P(P=true | T=false, A=false) = 0,01\n",
        "\n",
        "Ihre Aufgaben\n",
        "2. Umsetzung und Beantwortung von Fragen mittels pgmpy. Abzugeben ist ein Jupyter Notebook. Sie können sich bei Ihrer Lösung an https://github.com/jku-win-dke/SemAI/blob/main/V08_PGM.ipynb orientieren. (insgesamt 5 Punkte) Um die Conditional Probability Tables (CPDs) zwischen den beiden Umsetzungsvarianten einfach ver\u0002gleichbar zu machen, verwenden Sie bitte in beide Umsetzungsvarianten die selben Variablen- und Zustandsnamen. Hier der entsprechende Code für pgmpy:\n",
        "\n",
        "statenames = {\n",
        "'TrainStrike': ['True', 'False'],\n",
        "'PeterLate': ['True', 'False'],\n",
        "'JohannaLate': ['True', 'False'],\n",
        "'PetersAlarmFails': ['True', 'False']}\n",
        "\n",
        "Es sind jeweils folgende Aufgaben zu erfüllen bzw Fragen zu beantworten (jeweils 1 Punkt):\n",
        "\n",
        "a) Erstellung des Bayes’schen Netzes (Struktur + Wahrscheinlichkeiten)\n",
        "\n",
        "b) Wie hoch ist die Wahrscheinlichkeit, dass Johanna bzw Peter zu spät in die Arbeit kommen?\n",
        "\n",
        "c) Wie hoch ist die Wahrscheinlichkeit, dass Johanna zu spät in die Arbeit kommt, falls Peters Wecker nicht funktioniert?\n",
        "\n",
        "d) Wie hoch ist die Wahrscheinlichkeit, dass Johanna zu spät in die Arbeit kommt, wenn Peter zu spät in die Arbeit kommt?\n",
        "\n",
        "e) Wie hoch ist die Wahrscheinlichkeit, dass Johanna zu spät in die Arbeit kommt, wenn Peter zu spät in die Arbeit kommt obwohl Peters Wecker funktioniert\n"
      ],
      "metadata": {
        "id": "HnpijZy2D1Hd"
      }
    },
    {
      "cell_type": "markdown",
      "source": [
        "##Preparations"
      ],
      "metadata": {
        "id": "6Et-n7qGj-Ov"
      }
    },
    {
      "cell_type": "code",
      "source": [
        "!pip install -q pgmpy networkx matplotlib plotly daft"
      ],
      "metadata": {
        "id": "W-Yc1oGRkCOA"
      },
      "execution_count": 8,
      "outputs": []
    },
    {
      "cell_type": "markdown",
      "source": [
        "## a) Erstellung des Bayes’schen Netzes (Struktur + Wahrscheinlichkeiten)"
      ],
      "metadata": {
        "id": "XysGyXciPn3d"
      }
    },
    {
      "cell_type": "code",
      "execution_count": 9,
      "outputs": [
        {
          "output_type": "stream",
          "name": "stdout",
          "text": [
            "+--------------------+------+\n",
            "| TrainStrike(True)  | 0.05 |\n",
            "+--------------------+------+\n",
            "| TrainStrike(False) | 0.95 |\n",
            "+--------------------+------+\n",
            "+------------------+-----+-------------------------+\n",
            "| TrainStrike      | ... | TrainStrike(False)      |\n",
            "+------------------+-----+-------------------------+\n",
            "| PetersAlarmFails | ... | PetersAlarmFails(False) |\n",
            "+------------------+-----+-------------------------+\n",
            "| PeterLate(True)  | ... | 0.01                    |\n",
            "+------------------+-----+-------------------------+\n",
            "| PeterLate(False) | ... | 0.99                    |\n",
            "+------------------+-----+-------------------------+\n",
            "+--------------------+-------------------+--------------------+\n",
            "| TrainStrike        | TrainStrike(True) | TrainStrike(False) |\n",
            "+--------------------+-------------------+--------------------+\n",
            "| JohannaLate(True)  | 0.5               | 0.02               |\n",
            "+--------------------+-------------------+--------------------+\n",
            "| JohannaLate(False) | 0.5               | 0.98               |\n",
            "+--------------------+-------------------+--------------------+\n",
            "+-------------------------+-----+\n",
            "| PetersAlarmFails(True)  | 0.1 |\n",
            "+-------------------------+-----+\n",
            "| PetersAlarmFails(False) | 0.9 |\n",
            "+-------------------------+-----+\n"
          ]
        },
        {
          "output_type": "stream",
          "name": "stderr",
          "text": [
            "/usr/local/lib/python3.10/dist-packages/pgmpy/models/BayesianModel.py:8: FutureWarning: BayesianModel has been renamed to BayesianNetwork. Please use BayesianNetwork class, BayesianModel will be removed in future.\n",
            "  warnings.warn(\n"
          ]
        }
      ],
      "source": [
        "from pgmpy.models import BayesianModel\n",
        "from pgmpy.factors.discrete import TabularCPD\n",
        "from pgmpy.inference import VariableElimination\n",
        "\n",
        "statenames = { 'TrainStrike': ['True', 'False'], 'PeterLate': ['True', 'False'], 'JohannaLate': ['True', 'False'], 'PetersAlarmFails': ['True', 'False']}\n",
        "\n",
        "model = BayesianModel([\n",
        "    ('PetersAlarmFails', 'PeterLate'),\n",
        "    ('TrainStrike', 'PeterLate'),\n",
        "    ('TrainStrike', 'JohannaLate')\n",
        "])\n",
        "\n",
        "# Wahrscheinlichkeit für PetersAlarmFails\n",
        "cpd_peters_alarm_fails = TabularCPD(\n",
        "    variable='PetersAlarmFails',\n",
        "    variable_card=2,\n",
        "    values=[[0.1], [0.9]],\n",
        "    state_names=statenames\n",
        ")\n",
        "\n",
        "# Wahrscheinlichkeit für TrainStrike\n",
        "cpd_train_strike = TabularCPD (\n",
        "    variable='TrainStrike',\n",
        "    variable_card=2,\n",
        "    values=[[0.05], [0.95]],\n",
        "    state_names=statenames\n",
        ")\n",
        "\n",
        "# Wahrscheinlichkeit für JohannaLate\n",
        "cpd_johanna_late = TabularCPD(\n",
        "    variable='JohannaLate',\n",
        "    variable_card=2,\n",
        "    values=[[0.5, 0.02],\n",
        "            [0.5, 0.98]],\n",
        "    evidence=['TrainStrike'],\n",
        "    evidence_card=[2],\n",
        "    state_names=statenames\n",
        ")\n",
        "\n",
        "# Wahrscheinlichkeit für PeterLate\n",
        "cpd_peter_late = TabularCPD (\n",
        "    variable='PeterLate',\n",
        "    variable_card=2,\n",
        "    values=[[0.7, 0.3, 0.4, 0.01],\n",
        "            [0.3, 0.7, 0.6, 0.99]],\n",
        "    evidence=['TrainStrike', 'PetersAlarmFails'],\n",
        "    evidence_card=[2, 2],\n",
        "    state_names=statenames\n",
        ")\n",
        "\n",
        "model.add_cpds(cpd_train_strike, cpd_peter_late, cpd_johanna_late, cpd_peters_alarm_fails)\n",
        "model.check_model()\n",
        "\n",
        "for cpd in model.get_cpds():\n",
        "    print(cpd)"
      ],
      "metadata": {
        "id": "idalZNztOtU_",
        "colab": {
          "base_uri": "https://localhost:8080/"
        },
        "outputId": "c8517f8b-ab35-4cdb-ae1a-864fecddc07d"
      }
    },
    {
      "cell_type": "markdown",
      "source": [
        "## b) Wie hoch ist die Wahrscheinlichkeit, dass Johanna bzw Peter zu spät in die Arbeit kommen?"
      ],
      "metadata": {
        "id": "_GMDv1GvQEI3"
      }
    },
    {
      "cell_type": "code",
      "source": [
        "inference = VariableElimination(model)\n",
        "\n",
        "johanna_late_prob = inference.query(variables=['JohannaLate'])\n",
        "peter_late_prob = inference.query(variables=['PeterLate'])\n",
        "print(\"Probability Johanna late:\")\n",
        "print(johanna_late_prob)\n",
        "print(\"Probability Peter late:\")\n",
        "print(peter_late_prob)"
      ],
      "metadata": {
        "id": "PNmvMpzVQHOK",
        "colab": {
          "base_uri": "https://localhost:8080/"
        },
        "outputId": "b4a2829c-cb5b-42af-dcc6-55e26a01181f"
      },
      "execution_count": 10,
      "outputs": [
        {
          "output_type": "stream",
          "name": "stdout",
          "text": [
            "Probability Johanna late:\n",
            "+--------------------+--------------------+\n",
            "| JohannaLate        |   phi(JohannaLate) |\n",
            "+====================+====================+\n",
            "| JohannaLate(True)  |             0.0440 |\n",
            "+--------------------+--------------------+\n",
            "| JohannaLate(False) |             0.9560 |\n",
            "+--------------------+--------------------+\n",
            "Probability Peter late:\n",
            "+------------------+------------------+\n",
            "| PeterLate        |   phi(PeterLate) |\n",
            "+==================+==================+\n",
            "| PeterLate(True)  |           0.0636 |\n",
            "+------------------+------------------+\n",
            "| PeterLate(False) |           0.9365 |\n",
            "+------------------+------------------+\n"
          ]
        }
      ]
    },
    {
      "cell_type": "markdown",
      "source": [
        "## c) Wie hoch ist die Wahrscheinlichkeit, dass Johanna zu spät in die Arbeit kommt, falls Peters Wecker nicht funktioniert?"
      ],
      "metadata": {
        "id": "NJFffMGeQ0zD"
      }
    },
    {
      "cell_type": "code",
      "source": [
        "evidence = {'PetersAlarmFails': 'True'}\n",
        "print(inference.query(variables=['JohannaLate'], evidence=evidence))"
      ],
      "metadata": {
        "id": "A3K6mlivQ4-I",
        "colab": {
          "base_uri": "https://localhost:8080/"
        },
        "outputId": "004d7d66-28c5-4ef0-9a1b-402fe730eac4"
      },
      "execution_count": 11,
      "outputs": [
        {
          "output_type": "stream",
          "name": "stdout",
          "text": [
            "+--------------------+--------------------+\n",
            "| JohannaLate        |   phi(JohannaLate) |\n",
            "+====================+====================+\n",
            "| JohannaLate(True)  |             0.0440 |\n",
            "+--------------------+--------------------+\n",
            "| JohannaLate(False) |             0.9560 |\n",
            "+--------------------+--------------------+\n"
          ]
        }
      ]
    },
    {
      "cell_type": "markdown",
      "source": [
        "## d) Wie hoch ist die Wahrscheinlichkeit, dass Johanna zu spät in die Arbeit kommt, wenn Peter zu spät in die Arbeit kommt?"
      ],
      "metadata": {
        "id": "phNZUMcwRRfm"
      }
    },
    {
      "cell_type": "code",
      "source": [
        "print(inference.query(variables=['JohannaLate'], evidence={'PeterLate': 'True'}))"
      ],
      "metadata": {
        "id": "YsgwRi9DRWIO",
        "colab": {
          "base_uri": "https://localhost:8080/"
        },
        "outputId": "fcfc41d4-4fa9-4a36-9973-3081fc2dea55"
      },
      "execution_count": 12,
      "outputs": [
        {
          "output_type": "stream",
          "name": "stdout",
          "text": [
            "+--------------------+--------------------+\n",
            "| JohannaLate        |   phi(JohannaLate) |\n",
            "+====================+====================+\n",
            "| JohannaLate(True)  |             0.1484 |\n",
            "+--------------------+--------------------+\n",
            "| JohannaLate(False) |             0.8516 |\n",
            "+--------------------+--------------------+\n"
          ]
        }
      ]
    },
    {
      "cell_type": "markdown",
      "source": [
        "## e) Wie hoch ist die Wahrscheinlichkeit, dass Johanna zu spät in die Arbeit kommt, wenn Peter zu spät in die Arbeit kommt obwohl Peters Wecker funktioniert"
      ],
      "metadata": {
        "id": "FgP_tOQVRcl_"
      }
    },
    {
      "cell_type": "code",
      "source": [
        "print(inference.query(variables=['JohannaLate'], evidence={'PeterLate': 'True', 'PetersAlarmFails': 'False'}))"
      ],
      "metadata": {
        "id": "s7Bej3DVRg8l",
        "colab": {
          "base_uri": "https://localhost:8080/"
        },
        "outputId": "ba863a64-92fd-45de-acec-2028dfca9193"
      },
      "execution_count": 13,
      "outputs": [
        {
          "output_type": "stream",
          "name": "stdout",
          "text": [
            "+--------------------+--------------------+\n",
            "| JohannaLate        |   phi(JohannaLate) |\n",
            "+====================+====================+\n",
            "| JohannaLate(True)  |             0.3139 |\n",
            "+--------------------+--------------------+\n",
            "| JohannaLate(False) |             0.6861 |\n",
            "+--------------------+--------------------+\n"
          ]
        }
      ]
    }
  ]
}