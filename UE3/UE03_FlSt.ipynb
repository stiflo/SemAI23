{
  "nbformat": 4,
  "nbformat_minor": 0,
  "metadata": {
    "colab": {
      "provenance": []
    },
    "kernelspec": {
      "name": "python3",
      "display_name": "Python 3"
    },
    "language_info": {
      "name": "python"
    }
  },
  "cells": [
    {
      "cell_type": "markdown",
      "source": [
        "#UE03 - SPARQL Query\n",
        "\n",
        "Please complete the 10 tasks in the `2. SPARQL` sheet of `SemAI.jar` first, and then transfer the task descriptions and your solutiosn in executable form to this notebook."
      ],
      "metadata": {
        "id": "PUyG1F1sVDEW"
      }
    },
    {
      "cell_type": "markdown",
      "source": [
        "## Preparation\n",
        "\n",
        "Reuse imports and functions from https://github.com/jku-win-dke/SemAI/blob/main/V02_SPARQL.ipynb and load the solar system graph. Query the solar system graph to check that everything works fine. "
      ],
      "metadata": {
        "id": "Ky2HcjBHxqLp"
      }
    },
    {
      "cell_type": "code",
      "execution_count": 2,
      "metadata": {
        "id": "RgRHkpEsLmx_",
        "colab": {
          "base_uri": "https://localhost:8080/",
          "height": 366
        },
        "outputId": "39751c5c-1466-4229-ac24-ce1c20f32fec"
      },
      "outputs": [
        {
          "output_type": "stream",
          "name": "stdout",
          "text": [
            "\u001b[2K     \u001b[90m━━━━━━━━━━━━━━━━━━━━━━━━━━━━━━━━━━━━━━\u001b[0m \u001b[32m528.1/528.1 KB\u001b[0m \u001b[31m11.3 MB/s\u001b[0m eta \u001b[36m0:00:00\u001b[0m\n",
            "\u001b[2K     \u001b[90m━━━━━━━━━━━━━━━━━━━━━━━━━━━━━━━━━━━━━━━━\u001b[0m \u001b[32m41.7/41.7 KB\u001b[0m \u001b[31m4.9 MB/s\u001b[0m eta \u001b[36m0:00:00\u001b[0m\n",
            "\u001b[?25h"
          ]
        },
        {
          "output_type": "execute_result",
          "data": {
            "text/plain": [
              "     planet   apoapsis apoapsis_uom\n",
              "0  :Mercury      0.467      unit:AU\n",
              "1    :Venus      0.728      unit:AU\n",
              "2    :Earth      1.017      unit:AU\n",
              "3    :Earth  149597871      unit:KM\n",
              "4     :Mars      1.666      unit:AU\n",
              "5  :Jupiter     5.4588      unit:AU\n",
              "6   :Saturn     9.0412      unit:AU\n",
              "7   :Uranus      20.11      unit:AU\n",
              "8  :Neptune      30.33      unit:AU"
            ],
            "text/html": [
              "\n",
              "  <div id=\"df-f1d9178b-6a7a-48f5-bf34-04dc32c7d9b6\">\n",
              "    <div class=\"colab-df-container\">\n",
              "      <div>\n",
              "<style scoped>\n",
              "    .dataframe tbody tr th:only-of-type {\n",
              "        vertical-align: middle;\n",
              "    }\n",
              "\n",
              "    .dataframe tbody tr th {\n",
              "        vertical-align: top;\n",
              "    }\n",
              "\n",
              "    .dataframe thead th {\n",
              "        text-align: right;\n",
              "    }\n",
              "</style>\n",
              "<table border=\"1\" class=\"dataframe\">\n",
              "  <thead>\n",
              "    <tr style=\"text-align: right;\">\n",
              "      <th></th>\n",
              "      <th>planet</th>\n",
              "      <th>apoapsis</th>\n",
              "      <th>apoapsis_uom</th>\n",
              "    </tr>\n",
              "  </thead>\n",
              "  <tbody>\n",
              "    <tr>\n",
              "      <th>0</th>\n",
              "      <td>:Mercury</td>\n",
              "      <td>0.467</td>\n",
              "      <td>unit:AU</td>\n",
              "    </tr>\n",
              "    <tr>\n",
              "      <th>1</th>\n",
              "      <td>:Venus</td>\n",
              "      <td>0.728</td>\n",
              "      <td>unit:AU</td>\n",
              "    </tr>\n",
              "    <tr>\n",
              "      <th>2</th>\n",
              "      <td>:Earth</td>\n",
              "      <td>1.017</td>\n",
              "      <td>unit:AU</td>\n",
              "    </tr>\n",
              "    <tr>\n",
              "      <th>3</th>\n",
              "      <td>:Earth</td>\n",
              "      <td>149597871</td>\n",
              "      <td>unit:KM</td>\n",
              "    </tr>\n",
              "    <tr>\n",
              "      <th>4</th>\n",
              "      <td>:Mars</td>\n",
              "      <td>1.666</td>\n",
              "      <td>unit:AU</td>\n",
              "    </tr>\n",
              "    <tr>\n",
              "      <th>5</th>\n",
              "      <td>:Jupiter</td>\n",
              "      <td>5.4588</td>\n",
              "      <td>unit:AU</td>\n",
              "    </tr>\n",
              "    <tr>\n",
              "      <th>6</th>\n",
              "      <td>:Saturn</td>\n",
              "      <td>9.0412</td>\n",
              "      <td>unit:AU</td>\n",
              "    </tr>\n",
              "    <tr>\n",
              "      <th>7</th>\n",
              "      <td>:Uranus</td>\n",
              "      <td>20.11</td>\n",
              "      <td>unit:AU</td>\n",
              "    </tr>\n",
              "    <tr>\n",
              "      <th>8</th>\n",
              "      <td>:Neptune</td>\n",
              "      <td>30.33</td>\n",
              "      <td>unit:AU</td>\n",
              "    </tr>\n",
              "  </tbody>\n",
              "</table>\n",
              "</div>\n",
              "      <button class=\"colab-df-convert\" onclick=\"convertToInteractive('df-f1d9178b-6a7a-48f5-bf34-04dc32c7d9b6')\"\n",
              "              title=\"Convert this dataframe to an interactive table.\"\n",
              "              style=\"display:none;\">\n",
              "        \n",
              "  <svg xmlns=\"http://www.w3.org/2000/svg\" height=\"24px\"viewBox=\"0 0 24 24\"\n",
              "       width=\"24px\">\n",
              "    <path d=\"M0 0h24v24H0V0z\" fill=\"none\"/>\n",
              "    <path d=\"M18.56 5.44l.94 2.06.94-2.06 2.06-.94-2.06-.94-.94-2.06-.94 2.06-2.06.94zm-11 1L8.5 8.5l.94-2.06 2.06-.94-2.06-.94L8.5 2.5l-.94 2.06-2.06.94zm10 10l.94 2.06.94-2.06 2.06-.94-2.06-.94-.94-2.06-.94 2.06-2.06.94z\"/><path d=\"M17.41 7.96l-1.37-1.37c-.4-.4-.92-.59-1.43-.59-.52 0-1.04.2-1.43.59L10.3 9.45l-7.72 7.72c-.78.78-.78 2.05 0 2.83L4 21.41c.39.39.9.59 1.41.59.51 0 1.02-.2 1.41-.59l7.78-7.78 2.81-2.81c.8-.78.8-2.07 0-2.86zM5.41 20L4 18.59l7.72-7.72 1.47 1.35L5.41 20z\"/>\n",
              "  </svg>\n",
              "      </button>\n",
              "      \n",
              "  <style>\n",
              "    .colab-df-container {\n",
              "      display:flex;\n",
              "      flex-wrap:wrap;\n",
              "      gap: 12px;\n",
              "    }\n",
              "\n",
              "    .colab-df-convert {\n",
              "      background-color: #E8F0FE;\n",
              "      border: none;\n",
              "      border-radius: 50%;\n",
              "      cursor: pointer;\n",
              "      display: none;\n",
              "      fill: #1967D2;\n",
              "      height: 32px;\n",
              "      padding: 0 0 0 0;\n",
              "      width: 32px;\n",
              "    }\n",
              "\n",
              "    .colab-df-convert:hover {\n",
              "      background-color: #E2EBFA;\n",
              "      box-shadow: 0px 1px 2px rgba(60, 64, 67, 0.3), 0px 1px 3px 1px rgba(60, 64, 67, 0.15);\n",
              "      fill: #174EA6;\n",
              "    }\n",
              "\n",
              "    [theme=dark] .colab-df-convert {\n",
              "      background-color: #3B4455;\n",
              "      fill: #D2E3FC;\n",
              "    }\n",
              "\n",
              "    [theme=dark] .colab-df-convert:hover {\n",
              "      background-color: #434B5C;\n",
              "      box-shadow: 0px 1px 3px 1px rgba(0, 0, 0, 0.15);\n",
              "      filter: drop-shadow(0px 1px 2px rgba(0, 0, 0, 0.3));\n",
              "      fill: #FFFFFF;\n",
              "    }\n",
              "  </style>\n",
              "\n",
              "      <script>\n",
              "        const buttonEl =\n",
              "          document.querySelector('#df-f1d9178b-6a7a-48f5-bf34-04dc32c7d9b6 button.colab-df-convert');\n",
              "        buttonEl.style.display =\n",
              "          google.colab.kernel.accessAllowed ? 'block' : 'none';\n",
              "\n",
              "        async function convertToInteractive(key) {\n",
              "          const element = document.querySelector('#df-f1d9178b-6a7a-48f5-bf34-04dc32c7d9b6');\n",
              "          const dataTable =\n",
              "            await google.colab.kernel.invokeFunction('convertToInteractive',\n",
              "                                                     [key], {});\n",
              "          if (!dataTable) return;\n",
              "\n",
              "          const docLinkHtml = 'Like what you see? Visit the ' +\n",
              "            '<a target=\"_blank\" href=https://colab.research.google.com/notebooks/data_table.ipynb>data table notebook</a>'\n",
              "            + ' to learn more about interactive tables.';\n",
              "          element.innerHTML = '';\n",
              "          dataTable['output_type'] = 'display_data';\n",
              "          await google.colab.output.renderOutput(dataTable, element);\n",
              "          const docLink = document.createElement('div');\n",
              "          docLink.innerHTML = docLinkHtml;\n",
              "          element.appendChild(docLink);\n",
              "        }\n",
              "      </script>\n",
              "    </div>\n",
              "  </div>\n",
              "  "
            ]
          },
          "metadata": {},
          "execution_count": 2
        }
      ],
      "source": [
        "# Install required packages\n",
        "!pip install -q rdflib\n",
        "\n",
        "# Imports\n",
        "import pandas as pd\n",
        "from rdflib import Graph, Literal, RDF, URIRef, BNode, Namespace\n",
        "from rdflib.namespace import FOAF , XSD , RDFS, NamespaceManager \n",
        "\n",
        "# Convenient Functions\n",
        "def sparql_select(graph,query,use_prefixes=True):\n",
        "  results = graph.query(query)          # execute the query against the graph, resulting in a rdflib.plugins.sparql.processor.SPARQLResult\n",
        "  rows = []                             # a list of dictionaries, as intermediate format to construct the pandas DataFrame\n",
        "  for result in results:                # iterate over the result set of the query, a result is an instance of rdflib.query.ResultRow\n",
        "    row = {}                            #     create a dictionary to hold a single row of the result\n",
        "    for var in results.vars:            #     iterate over the variables of the SPARQLResult to add a dictionary entry for each variable\n",
        "      if (isinstance(result[var],URIRef) and use_prefixes):\n",
        "        row[var] = result[var].n3(graph.namespace_manager)   # use namespace prefixes to shorten URIs\n",
        "      else:\n",
        "        row[var] = result[var]                  \n",
        "    rows.append(row)                    #     add the dictionary (row) to the list \n",
        "  return pd.DataFrame(rows,columns=results.vars)        \n",
        "                                        # return a pandas DataFrame constructed from the list of dictionaries, with the variables from the result set as columns      \n",
        "\n",
        "def sparql_construct(graph, query):\n",
        "  result_graph = Graph(namespace_manager = g.namespace_manager)  # create a Graph object that reuses the namespace prefixes of the original graph\n",
        "  result_graph += graph.query(query)                             # execute the construct query against the original graph and add the resulting graph to the new one\n",
        "  return result_graph\n",
        "\n",
        "def sparql_ask(graph, query):\n",
        "  return bool(graph.query(query))      # an ASK query has a boolean result, which should be returned as such\n",
        "\n",
        "# Load solar system graph\n",
        "g = Graph()\n",
        "g.parse(\"https://raw.githubusercontent.com/jku-win-dke/SemAI/main/data/solarsystem.ttl\",format=\"turtle\")\n",
        "\n",
        "# Query solar system graph (to check that everything works fine)\n",
        "df = sparql_select(g,\"\"\"\n",
        "  SELECT ?planet ?apoapsis ?apoapsis_uom\n",
        "  WHERE { \n",
        "    ?planet rdf:type dbo:Planet . \n",
        "    OPTIONAL { ?planet v:apoapsis [rdf:value ?apoapsis ; v:uom ?apoapsis_uom ].  }\n",
        "  }\n",
        "\"\"\")\n",
        "df"
      ]
    },
    {
      "cell_type": "markdown",
      "source": [
        "\n",
        "## Task 1 (1 pt)\n",
        "\n",
        "Geben Sie alle Zwergplaneten (Instanzen der Klasse dbo:DwarfPlanet) aus und falls vorhanden deren genaue Entsprechung (skos:exactMatch). Ordnen Sie das Ergebnis aufsteigend nach den URIs der Zwergplaneten."
      ],
      "metadata": {
        "id": "yRBr_COBQPQE"
      }
    },
    {
      "cell_type": "code",
      "source": [
        "df = sparql_select(g,\"\"\"\n",
        "SELECT ?d ?match\n",
        "WHERE { \n",
        "  ?d a dbo:DwarfPlanet. \n",
        "  OPTIONAL { ?d skos:exactMatch ?match.}  \n",
        "}\n",
        "ORDER BY ?d \n",
        "\"\"\")\n",
        "df\n"
      ],
      "metadata": {
        "id": "0PE_ll0-MCdk"
      },
      "execution_count": null,
      "outputs": []
    },
    {
      "cell_type": "markdown",
      "source": [
        "## Task 2 (1 pt)\n",
        "Ermitteln Sie alle Sterne, ihr exactMatch, und ihre Masse (geben Sie den Wert und die Maßeinheit aus). Ordnen Sie das Ergebnis nach der URI der Sterne"
      ],
      "metadata": {
        "id": "YVzpX0ExF6wO"
      }
    },
    {
      "cell_type": "code",
      "source": [
        "df = sparql_select(g,\"\"\"\n",
        "SELECT ?star ?match ?massVal ?massUoM\n",
        "WHERE { \n",
        "  ?star a dbo:Star. \n",
        "  ?star skos:exactMatch ?match. \n",
        "  ?star v:mass[rdf:value ?massVal; v:uom ?massUoM]. \n",
        "}\n",
        "ORDER BY ?star\n",
        "\"\"\")\n",
        "df\n",
        "\n"
      ],
      "metadata": {
        "id": "j82TeG59F6wP"
      },
      "execution_count": null,
      "outputs": []
    },
    {
      "cell_type": "markdown",
      "source": [
        "## Task 3 (1 pt)\n",
        "\n",
        "Die Planeten unseres Sonnensystems und ihre jeweilige Anzahl an Monden. Unterscheiden Sie die im RDF-Graph beschriebenen Monde und die im RDF-Graph erfasste Anzahl von Monden. Sortieren Sie nach den Planeten."
      ],
      "metadata": {
        "id": "3i2B2tLRF7T3"
      }
    },
    {
      "cell_type": "code",
      "source": [
        "df = sparql_select(g,\"\"\"\n",
        "SELECT ?planet ?assertedNo (count(?moon) AS ?noOfDescribedMoons) \n",
        "WHERE { \n",
        "  ?planet a dbo:Planet. \n",
        "  ?planet v:nrOfMoons ?assertedNo.\n",
        "  OPTIONAL {?moon v:orbits ?planet.}\n",
        "}\n",
        "GROUP BY ?planet ?assertedNo\n",
        "ORDER BY ?planet\"\"\")\n",
        "df\n"
      ],
      "metadata": {
        "id": "uZVUV577F7T4"
      },
      "execution_count": null,
      "outputs": []
    },
    {
      "cell_type": "markdown",
      "source": [
        "## Task 4 (1 pt)\n",
        "\n",
        "\n",
        "Ermitteln sie für die Planeten in unserem Sonnensystem die durchschnittliche Anzahl an Monden (die auch im RDF-Graph beschrieben sind) pro Planet."
      ],
      "metadata": {
        "id": "OEx2sM7nF7n2"
      }
    },
    {
      "cell_type": "code",
      "source": [
        "df = sparql_select(g,\"\"\"\n",
        "SELECT (avg(?noOfDescribedMoons) AS ?avgNoOfDescribedMoons)\n",
        "{\n",
        "  SELECT ?planet (count(?moon) AS ?noOfDescribedMoons)\n",
        "  WHERE{\n",
        "    ?planet a dbo:Planet\n",
        "    OPTIONAL { ?moon v:orbits ?planet }\n",
        "  } GROUP BY ?planet\n",
        "}\n",
        "\"\"\")\n",
        "df"
      ],
      "metadata": {
        "id": "1kk9dlZAF7n3"
      },
      "execution_count": null,
      "outputs": []
    },
    {
      "cell_type": "markdown",
      "source": [
        "## Task 5 (1 pt)\n",
        "\n",
        "Geben Sie die im RDF-Graph verwendeten Klassen und ihre Anzahl an Instanzen aus. Geben Sie nur Klassen mit mindestens 2 Instanzen aus. Ordnen Sie die Ausgabe nach der URI der Klassen."
      ],
      "metadata": {
        "id": "1nGGo4_XF70X"
      }
    },
    {
      "cell_type": "code",
      "source": [
        "df = sparql_select(g,\"\"\"\n",
        "SELECT ?class (count(?type) AS ?noOfInstances)\n",
        "WHERE { \n",
        "  ?type a ?class.\n",
        "}\n",
        "GROUP BY ?class\n",
        "HAVING (count(?type) > 1)\n",
        "ORDER BY ?class\n",
        "\"\"\")\n",
        "df"
      ],
      "metadata": {
        "id": "AxB2DcY-F70Y"
      },
      "execution_count": null,
      "outputs": []
    },
    {
      "cell_type": "markdown",
      "source": [
        "**Kommentar: In SemAI.jar HAVING (?noOfInstances > 1) möglich. Hier leider nicht.\n",
        "Original in SemAI.jar:**\n",
        "\n",
        "```\n",
        "SELECT ?class (count(?type) AS ?noOfInstances)\n",
        "WHERE { \n",
        "  ?type a ?class.\n",
        "}\n",
        "GROUP BY ?class\n",
        "HAVING ( ?noOfInstances > 1)\n",
        "ORDER BY ?class\n",
        "```\n",
        "\n"
      ],
      "metadata": {
        "id": "GlvQfU8-M0Uk"
      }
    },
    {
      "cell_type": "markdown",
      "source": [
        "## Task 6 (1 pt)\n",
        "\n",
        "Geben Sie die im RDF-Graph verwendeten Properties und ihre Häufigkeit je Klasse aus. Gezählt werden sollen die Instanzen der Klasse, die die Property ausprägen. Geben Sie nur Properties zu Klassen aus, die von mindestens 7 Instanzen dieser Klasse ausgeprägt werden. Ordnen Sie die Ausgabe zuerst nach der Klasse und dann nach der Property."
      ],
      "metadata": {
        "id": "nB_ZOGV9F7_v"
      }
    },
    {
      "cell_type": "code",
      "source": [
        "df = sparql_select(g,\"\"\"\n",
        "SELECT ?class ?prop (count(DISTINCT ?x) AS ?noOfInstances)\n",
        "WHERE {\n",
        "?x a ?class.\n",
        "?x ?prop ?y.\n",
        "} \n",
        "GROUP BY ?class ?prop\n",
        "HAVING(count(?x) >= 7)\n",
        "ORDER BY ?class ?prop\n",
        "\"\"\")\n",
        "df"
      ],
      "metadata": {
        "id": "x4uW2B4dF7_w"
      },
      "execution_count": null,
      "outputs": []
    },
    {
      "cell_type": "markdown",
      "source": [
        "## Task 7 (1 pt)\n",
        "\n",
        "Ermitteln Sie alle Sterne, sowie alle Monde. Zu jedem Mond ermitteln Sie auch den Planet, den dieser Mond umrundet. Ordnen Sie die Ausgabe nach der URI der Sterne und Monde."
      ],
      "metadata": {
        "id": "nXPqBOZjF8LH"
      }
    },
    {
      "cell_type": "code",
      "source": [
        "df = sparql_select(g,\"\"\"\n",
        "SELECT ?x ?y\n",
        "WHERE { \n",
        "   {?x a dbo:Star} UNION {?x a dbo:Satellite}.\n",
        "   OPTIONAL {?x v:orbits ?y}.\n",
        "}\n",
        "ORDER BY ?x\n",
        "\"\"\")\n",
        "df"
      ],
      "metadata": {
        "id": "rDqaQlDhF8LI"
      },
      "execution_count": null,
      "outputs": []
    },
    {
      "cell_type": "markdown",
      "source": [
        "## Task 8 (1 pt)\n",
        "\n",
        "Erzeugen sie mittels einer Construct-Query den angezeigten RDF-GRAPH (Expected Result). Reihenfolge ist unerheblich."
      ],
      "metadata": {
        "id": "Us6tYyDHF8V_"
      }
    },
    {
      "cell_type": "code",
      "source": [
        "df = sparql_construct(g,\"\"\"\n",
        "CONSTRUCT {\n",
        "  ?x rdf:type v:Himmelskoerper.\n",
        "  ?x v:wirdUmrundetVon ?y. \n",
        "  ?z v:wirdUmrundetVon ?t.   \n",
        "}\n",
        "WHERE { \n",
        "  {?x a dbo:Planet} UNION {?x a dbo:Satellite}.\n",
        "  OPTIONAL {?y v:orbits ?x}.\n",
        "  OPTIONAL {?z skos:exactMatch dbr:Sun}.\n",
        "  OPTIONAL {?t a dbo:Planet; v:orbits ?z}.  \n",
        "}\n",
        "\"\"\")\n",
        "print(df.serialize(format=\"turtle\"))"
      ],
      "metadata": {
        "id": "Mij855L3F8V_",
        "colab": {
          "base_uri": "https://localhost:8080/"
        },
        "outputId": "28ae2491-f945-4d14-ebad-2e537b28baf7"
      },
      "execution_count": 3,
      "outputs": [
        {
          "output_type": "stream",
          "name": "stdout",
          "text": [
            "@prefix : <http://dke.jku.at/example/solarsystem/> .\n",
            "@prefix v: <http://dke.jku.at/example/examplevocabulary/> .\n",
            "\n",
            ":Sun v:wirdUmrundetVon :Earth,\n",
            "        :Jupiter,\n",
            "        :Mars,\n",
            "        :Mercury,\n",
            "        :Neptune,\n",
            "        :Saturn,\n",
            "        :Uranus,\n",
            "        :Venus .\n",
            "\n",
            ":Callisto a v:Himmelskoerper .\n",
            "\n",
            ":Deimos a v:Himmelskoerper .\n",
            "\n",
            ":Earth a v:Himmelskoerper ;\n",
            "    v:wirdUmrundetVon :Moon .\n",
            "\n",
            ":Enceladus a v:Himmelskoerper .\n",
            "\n",
            ":Europa a v:Himmelskoerper .\n",
            "\n",
            ":Ganymede a v:Himmelskoerper .\n",
            "\n",
            ":Io a v:Himmelskoerper .\n",
            "\n",
            ":Jupiter a v:Himmelskoerper ;\n",
            "    v:wirdUmrundetVon :Callisto,\n",
            "        :Europa,\n",
            "        :Ganymede,\n",
            "        :Io .\n",
            "\n",
            ":Mars a v:Himmelskoerper ;\n",
            "    v:wirdUmrundetVon :Deimos,\n",
            "        :Phobos .\n",
            "\n",
            ":Mercury a v:Himmelskoerper .\n",
            "\n",
            ":Mimas a v:Himmelskoerper .\n",
            "\n",
            ":Moon a v:Himmelskoerper .\n",
            "\n",
            ":Neptune a v:Himmelskoerper .\n",
            "\n",
            ":Phobos a v:Himmelskoerper .\n",
            "\n",
            ":Saturn a v:Himmelskoerper ;\n",
            "    v:wirdUmrundetVon :Enceladus,\n",
            "        :Mimas .\n",
            "\n",
            ":Uranus a v:Himmelskoerper .\n",
            "\n",
            ":Venus a v:Himmelskoerper .\n",
            "\n",
            "\n"
          ]
        }
      ]
    },
    {
      "cell_type": "markdown",
      "source": [
        "## Task 9 (1 pt)\n",
        "Gibt es einen Stern im RDF-Graph, der massereicher als die Sonne ist."
      ],
      "metadata": {
        "id": "IPLpuY8iF8gv"
      }
    },
    {
      "cell_type": "code",
      "source": [
        "df = sparql_ask(g,\"\"\"\n",
        "ASK {    \n",
        "  {SELECT ?x \n",
        "   WHERE { \n",
        "     FILTER (?val1 > ?val2 || ?val1 > 0.9942000004971).\n",
        "     {SELECT ?val1\n",
        "      WHERE {\n",
        "        ?x v:mass[rdf:value ?val1; v:uom ?massUoM1]. \n",
        "        ?x a dbo:Star.\n",
        "      }}.\n",
        "     {SELECT ?val2 \n",
        "      WHERE{ :Sun v:mass[rdf:value ?val2; v:uom ?massUoM2]\n",
        "      }}.\n",
        "}}\n",
        "}\n",
        "\"\"\")\n",
        "df"
      ],
      "metadata": {
        "id": "SaYpWyW0F8gw"
      },
      "execution_count": null,
      "outputs": []
    },
    {
      "cell_type": "markdown",
      "source": [
        "## Task 10 (1 pt)\n",
        "\n",
        "Geben Sie eine Beschreibung der Resourcen aus, die einen Durchmesser zwischen 20.000 km und 30.000 km haben."
      ],
      "metadata": {
        "id": "vszUEtolF8qv"
      }
    },
    {
      "cell_type": "code",
      "source": [
        "df = sparql_construct(g,\"\"\"\n",
        "DESCRIBE ?x\n",
        "WHERE {\n",
        "?x a ?y ;\n",
        "v:radius [rdf:value ?val; v:uom ?uom]\n",
        "FILTER(?val >= 20000 && ?val <= 30000 && ?uom in (unit:KM))\n",
        "}\n",
        "\"\"\")\n",
        "print(df.serialize(format=\"turtle\"))"
      ],
      "metadata": {
        "id": "t8gZYqQNF8qv",
        "colab": {
          "base_uri": "https://localhost:8080/"
        },
        "outputId": "5e7aa619-ab21-495a-c90a-f9021583ee81"
      },
      "execution_count": 4,
      "outputs": [
        {
          "output_type": "stream",
          "name": "stdout",
          "text": [
            "@prefix : <http://dke.jku.at/example/solarsystem/> .\n",
            "@prefix dbo: <http://dbpedia.org/ontology/> .\n",
            "@prefix dbr: <http://dbpedia.org/resource/> .\n",
            "@prefix rdf: <http://www.w3.org/1999/02/22-rdf-syntax-ns#> .\n",
            "@prefix skos: <http://www.w3.org/2004/02/skos/core#> .\n",
            "@prefix unit: <http://qudt.org/vocab/unit/> .\n",
            "@prefix v: <http://dke.jku.at/example/examplevocabulary/> .\n",
            "@prefix xsd: <http://www.w3.org/2001/XMLSchema#> .\n",
            "\n",
            ":Neptune a dbo:Planet ;\n",
            "    v:apoapsis [ v:uom unit:AU ;\n",
            "            rdf:value 30.33 ] ;\n",
            "    v:nrOfMoons 14 ;\n",
            "    v:orbitalPeriod [ v:uom unit:YR ;\n",
            "            rdf:value 164.8 ] ;\n",
            "    v:orbits :Sun ;\n",
            "    v:radius [ v:uom unit:KM ;\n",
            "            rdf:value 24622 ] ;\n",
            "    v:temperature [ v:uom unit:Deg_C ;\n",
            "            rdf:value -201 ] ;\n",
            "    skos:exactMatch dbr:Neptune .\n",
            "\n",
            ":Uranus a dbo:Planet ;\n",
            "    v:apoapsis [ v:uom unit:AU ;\n",
            "            rdf:value 20.11 ] ;\n",
            "    v:nrOfMoons 27 ;\n",
            "    v:orbitalPeriod [ v:uom unit:YR ;\n",
            "            rdf:value 84.0205 ] ;\n",
            "    v:orbits :Sun ;\n",
            "    v:radius [ v:uom unit:KM ;\n",
            "            rdf:value 25362 ] ;\n",
            "    v:temperature [ v:uom unit:Deg_C ;\n",
            "            rdf:value -197.2 ] ;\n",
            "    skos:exactMatch dbr:Uranus .\n",
            "\n",
            "\n"
          ]
        }
      ]
    }
  ]
}