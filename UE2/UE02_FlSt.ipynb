{
  "cells": [
    {
      "cell_type": "markdown",
      "metadata": {
        "id": "BS4vo37YWsYf"
      },
      "source": [
        "# UE02 - RDF and RDF Schema\n",
        "\n",
        "Before you start with this notebook, complete the eight tasks in the `1. RDF` sheet of `SemAI.jar`. You will then make use of your solutions in this notebook. \n",
        "\n",
        "## Task 0: Preparation\n",
        "\n",
        "Preparation (Installs and Imports). \n",
        "\n",
        "\n"
      ]
    },
    {
      "cell_type": "code",
      "source": [
        "# Install required packages in the current Jupyter kernel\n",
        "!pip install -q rdflib \n",
        "!pip install -q pydot\n",
        "!pip install -q owlrl\n",
        "\n",
        "!pip install networkx pyvis\n",
        "\n",
        "import rdflib\n",
        "from rdflib import Graph, Literal, RDF, URIRef, BNode, Namespace, Dataset\n",
        "import networkx as nx\n",
        "from pyvis.network import Network\n",
        "import requests\n",
        "from IPython.display import display, HTML, Image\n",
        "import os\n",
        "import pydot\n",
        "import owlrl\n",
        "from rdflib.namespace import FOAF , XSD , RDFS "
      ],
      "metadata": {
        "id": "UNTabDt9SLuw",
        "colab": {
          "base_uri": "https://localhost:8080/"
        },
        "outputId": "67085ffa-eb65-4686-8e47-f872cef82ed4"
      },
      "execution_count": null,
      "outputs": [
        {
          "output_type": "stream",
          "name": "stdout",
          "text": [
            "\u001b[?25l     \u001b[90m━━━━━━━━━━━━━━━━━━━━━━━━━━━━━━━━━━━━━━━━\u001b[0m \u001b[32m0.0/527.0 KB\u001b[0m \u001b[31m?\u001b[0m eta \u001b[36m-:--:--\u001b[0m\r\u001b[2K     \u001b[90m━━━━━━━━━━━━━━━━━━━━━━━━━━━━━━━━━━━━━━\u001b[0m \u001b[32m527.0/527.0 KB\u001b[0m \u001b[31m20.7 MB/s\u001b[0m eta \u001b[36m0:00:00\u001b[0m\n",
            "\u001b[2K     \u001b[90m━━━━━━━━━━━━━━━━━━━━━━━━━━━━━━━━━━━━━━━━\u001b[0m \u001b[32m41.7/41.7 KB\u001b[0m \u001b[31m2.3 MB/s\u001b[0m eta \u001b[36m0:00:00\u001b[0m\n",
            "\u001b[2K     \u001b[90m━━━━━━━━━━━━━━━━━━━━━━━━━━━━━━━━━━━━━━━━\u001b[0m \u001b[32m54.5/54.5 KB\u001b[0m \u001b[31m5.4 MB/s\u001b[0m eta \u001b[36m0:00:00\u001b[0m\n",
            "\u001b[?25hLooking in indexes: https://pypi.org/simple, https://us-python.pkg.dev/colab-wheels/public/simple/\n",
            "Requirement already satisfied: networkx in /usr/local/lib/python3.9/dist-packages (3.0)\n",
            "Collecting pyvis\n",
            "  Downloading pyvis-0.3.2-py3-none-any.whl (756 kB)\n",
            "\u001b[2K     \u001b[90m━━━━━━━━━━━━━━━━━━━━━━━━━━━━━━━━━━━━━━\u001b[0m \u001b[32m756.0/756.0 KB\u001b[0m \u001b[31m29.5 MB/s\u001b[0m eta \u001b[36m0:00:00\u001b[0m\n",
            "\u001b[?25hRequirement already satisfied: jinja2>=2.9.6 in /usr/local/lib/python3.9/dist-packages (from pyvis) (3.1.2)\n",
            "Requirement already satisfied: ipython>=5.3.0 in /usr/local/lib/python3.9/dist-packages (from pyvis) (7.9.0)\n",
            "Collecting jsonpickle>=1.4.1\n",
            "  Downloading jsonpickle-3.0.1-py2.py3-none-any.whl (40 kB)\n",
            "\u001b[2K     \u001b[90m━━━━━━━━━━━━━━━━━━━━━━━━━━━━━━━━━━━━━━━━\u001b[0m \u001b[32m40.5/40.5 KB\u001b[0m \u001b[31m5.0 MB/s\u001b[0m eta \u001b[36m0:00:00\u001b[0m\n",
            "\u001b[?25hRequirement already satisfied: backcall in /usr/local/lib/python3.9/dist-packages (from ipython>=5.3.0->pyvis) (0.2.0)\n",
            "Requirement already satisfied: prompt-toolkit<2.1.0,>=2.0.0 in /usr/local/lib/python3.9/dist-packages (from ipython>=5.3.0->pyvis) (2.0.10)\n",
            "Requirement already satisfied: pexpect in /usr/local/lib/python3.9/dist-packages (from ipython>=5.3.0->pyvis) (4.8.0)\n",
            "Requirement already satisfied: traitlets>=4.2 in /usr/local/lib/python3.9/dist-packages (from ipython>=5.3.0->pyvis) (5.7.1)\n",
            "Requirement already satisfied: pygments in /usr/local/lib/python3.9/dist-packages (from ipython>=5.3.0->pyvis) (2.6.1)\n",
            "Requirement already satisfied: pickleshare in /usr/local/lib/python3.9/dist-packages (from ipython>=5.3.0->pyvis) (0.7.5)\n",
            "Requirement already satisfied: decorator in /usr/local/lib/python3.9/dist-packages (from ipython>=5.3.0->pyvis) (4.4.2)\n",
            "Requirement already satisfied: setuptools>=18.5 in /usr/local/lib/python3.9/dist-packages (from ipython>=5.3.0->pyvis) (63.4.3)\n",
            "Collecting jedi>=0.10\n",
            "  Downloading jedi-0.18.2-py2.py3-none-any.whl (1.6 MB)\n",
            "\u001b[2K     \u001b[90m━━━━━━━━━━━━━━━━━━━━━━━━━━━━━━━━━━━━━━━━\u001b[0m \u001b[32m1.6/1.6 MB\u001b[0m \u001b[31m72.5 MB/s\u001b[0m eta \u001b[36m0:00:00\u001b[0m\n",
            "\u001b[?25hRequirement already satisfied: MarkupSafe>=2.0 in /usr/local/lib/python3.9/dist-packages (from jinja2>=2.9.6->pyvis) (2.1.2)\n",
            "Requirement already satisfied: parso<0.9.0,>=0.8.0 in /usr/local/lib/python3.9/dist-packages (from jedi>=0.10->ipython>=5.3.0->pyvis) (0.8.3)\n",
            "Requirement already satisfied: six>=1.9.0 in /usr/local/lib/python3.9/dist-packages (from prompt-toolkit<2.1.0,>=2.0.0->ipython>=5.3.0->pyvis) (1.15.0)\n",
            "Requirement already satisfied: wcwidth in /usr/local/lib/python3.9/dist-packages (from prompt-toolkit<2.1.0,>=2.0.0->ipython>=5.3.0->pyvis) (0.2.6)\n",
            "Requirement already satisfied: ptyprocess>=0.5 in /usr/local/lib/python3.9/dist-packages (from pexpect->ipython>=5.3.0->pyvis) (0.7.0)\n",
            "Installing collected packages: jsonpickle, jedi, pyvis\n",
            "Successfully installed jedi-0.18.2 jsonpickle-3.0.1 pyvis-0.3.2\n"
          ]
        }
      ]
    },
    {
      "cell_type": "markdown",
      "source": [
        "## Task 1:  Improve interactive RDF graph visualization (1 pt)\n",
        "\n",
        "Improve function `visualize_graph_pyvis` (from `V01_rdf.ipynb`) as follows:\n",
        "- an optional `base` parameter\n",
        "- abbreviate the labels of nodes and edges in the same way as in `visualize_graph`. \n",
        "- make sure that blank node IDs are not shown in the visualization. \n",
        "\n",
        "Optional features: \n",
        "- use different graphical forms for literals and URIs\n",
        "- (add further improvements as you like)\n",
        "\n",
        "Test the function with `rdf_str` and with your solution to task `0. Intro` in the `1. RDF` sheet in `SemAI.jar`."
      ],
      "metadata": {
        "id": "vc2iBjkcQQvD"
      }
    },
    {
      "cell_type": "code",
      "source": [
        "rdf_str = \"\"\"BASE   <http://example.org/>\n",
        "PREFIX foaf: <http://xmlns.com/foaf/0.1/>\n",
        "PREFIX xsd: <http://www.w3.org/2001/XMLSchema#>\n",
        "PREFIX schema: <http://schema.org/>\n",
        "PREFIX dcterms: <http://purl.org/dc/terms/>\n",
        "PREFIX wd: <http://www.wikidata.org/entity/>\n",
        " \n",
        "<bob#me>\n",
        "   a foaf:Person ;\n",
        "   foaf:knows <alice#me> ;\n",
        "   schema:birthDate \"1990-07-04\"^^xsd:date ;\n",
        "   foaf:topic_interest wd:Q12418 .\n",
        "   \n",
        "wd:Q12418\n",
        "  dcterms:title \"Mona Lisa\" ;\n",
        "  dcterms:creator <http://dbpedia.org/resource/Leonardo_da_Vinci> .\n",
        "\n",
        "<http://data.europeana.eu/item/04802/243FA8618938F4117025F17A8B813C5F9AA4D619>\n",
        "  dcterms:subject wd:Q12418 .\n",
        "\"\"\"\n",
        "rdf_intro = \"\"\"@prefix rdf:  <http://www.w3.org/1999/02/22-rdf-syntax-ns#> .\n",
        "@prefix foaf: <http://xmlns.com/foaf/0.1/> .\n",
        "@prefix ex:   <http://www.ex.org/> .\n",
        "ex:Mary a foaf:Person .\n",
        "ex:John a foaf:Person ;\n",
        "    foaf:knows ex:Mary .\"\"\""
      ],
      "metadata": {
        "id": "Y3-jE3kNQAY4",
        "colab": {
          "base_uri": "https://localhost:8080/",
          "height": 452
        },
        "outputId": "12ff75ce-1352-45d6-98af-e5f7128bee85"
      },
      "execution_count": null,
      "outputs": [
        {
          "output_type": "stream",
          "name": "stderr",
          "text": [
            "WARNING:rdflib.term:file:///BASE   <http:/example.org/>PREFIX foaf: <http:/xmlns.com/foaf/0.1/>PREFIX xsd: <http:/www.w3.org/2001/XMLSchema#>PREFIX schema: <http://schema.org/>PREFIX dcterms: <http://purl.org/dc/terms/>PREFIX wd: <http://www.wikidata.org/entity/> <bob#me>   a foaf:Person ;   foaf:knows <alice#me> ;   schema:birthDate \"1990-07-04\"^^xsd:date ;   foaf:topic_interest wd:Q12418 .   wd:Q12418  dcterms:title \"Mona Lisa\" ;  dcterms:creator <http://dbpedia.org/resource/Leonardo_da_Vinci> .<http://data.europeana.eu/item/04802/243FA8618938F4117025F17A8B813C5F9AA4D619>  dcterms:subject wd:Q12418 . does not look like a valid URI, trying to serialize this will break.\n"
          ]
        },
        {
          "output_type": "error",
          "ename": "FileNotFoundError",
          "evalue": "ignored",
          "traceback": [
            "\u001b[0;31m---------------------------------------------------------------------------\u001b[0m",
            "\u001b[0;31mFileNotFoundError\u001b[0m                         Traceback (most recent call last)",
            "\u001b[0;32m<ipython-input-6-83aa1472b1f3>\u001b[0m in \u001b[0;36m<module>\u001b[0;34m\u001b[0m\n\u001b[1;32m     26\u001b[0m     foaf:knows ex:Mary .\"\"\"\n\u001b[1;32m     27\u001b[0m \u001b[0mg\u001b[0m \u001b[0;34m=\u001b[0m \u001b[0mGraph\u001b[0m\u001b[0;34m(\u001b[0m\u001b[0;34m)\u001b[0m\u001b[0;34m\u001b[0m\u001b[0;34m\u001b[0m\u001b[0m\n\u001b[0;32m---> 28\u001b[0;31m \u001b[0mg\u001b[0m\u001b[0;34m.\u001b[0m\u001b[0mparse\u001b[0m\u001b[0;34m(\u001b[0m\u001b[0mrdf_str\u001b[0m\u001b[0;34m,\u001b[0m\u001b[0mformat\u001b[0m\u001b[0;34m=\u001b[0m\u001b[0;34m\"turtle\"\u001b[0m\u001b[0;34m)\u001b[0m\u001b[0;34m\u001b[0m\u001b[0;34m\u001b[0m\u001b[0m\n\u001b[0m\u001b[1;32m     29\u001b[0m \u001b[0;32mdef\u001b[0m \u001b[0mvisualize_graph_pyvis\u001b[0m\u001b[0;34m(\u001b[0m\u001b[0mg\u001b[0m\u001b[0;34m,\u001b[0m \u001b[0mbase\u001b[0m\u001b[0;34m=\u001b[0m\u001b[0;32mNone\u001b[0m\u001b[0;34m)\u001b[0m\u001b[0;34m:\u001b[0m\u001b[0;34m\u001b[0m\u001b[0;34m\u001b[0m\u001b[0m\n\u001b[1;32m     30\u001b[0m \u001b[0;34m\u001b[0m\u001b[0m\n",
            "\u001b[0;32m/usr/local/lib/python3.9/dist-packages/rdflib/graph.py\u001b[0m in \u001b[0;36mparse\u001b[0;34m(self, source, publicID, format, location, file, data, **args)\u001b[0m\n\u001b[1;32m   1468\u001b[0m         \"\"\"\n\u001b[1;32m   1469\u001b[0m \u001b[0;34m\u001b[0m\u001b[0m\n\u001b[0;32m-> 1470\u001b[0;31m         source = create_input_source(\n\u001b[0m\u001b[1;32m   1471\u001b[0m             \u001b[0msource\u001b[0m\u001b[0;34m=\u001b[0m\u001b[0msource\u001b[0m\u001b[0;34m,\u001b[0m\u001b[0;34m\u001b[0m\u001b[0;34m\u001b[0m\u001b[0m\n\u001b[1;32m   1472\u001b[0m             \u001b[0mpublicID\u001b[0m\u001b[0;34m=\u001b[0m\u001b[0mpublicID\u001b[0m\u001b[0;34m,\u001b[0m\u001b[0;34m\u001b[0m\u001b[0;34m\u001b[0m\u001b[0m\n",
            "\u001b[0;32m/usr/local/lib/python3.9/dist-packages/rdflib/parser.py\u001b[0m in \u001b[0;36mcreate_input_source\u001b[0;34m(source, publicID, location, file, data, format)\u001b[0m\n\u001b[1;32m    413\u001b[0m             \u001b[0mfile\u001b[0m\u001b[0;34m,\u001b[0m\u001b[0;34m\u001b[0m\u001b[0;34m\u001b[0m\u001b[0m\n\u001b[1;32m    414\u001b[0m             \u001b[0minput_source\u001b[0m\u001b[0;34m,\u001b[0m\u001b[0;34m\u001b[0m\u001b[0;34m\u001b[0m\u001b[0m\n\u001b[0;32m--> 415\u001b[0;31m         \u001b[0;34m)\u001b[0m \u001b[0;34m=\u001b[0m \u001b[0m_create_input_source_from_location\u001b[0m\u001b[0;34m(\u001b[0m\u001b[0;34m\u001b[0m\u001b[0;34m\u001b[0m\u001b[0m\n\u001b[0m\u001b[1;32m    416\u001b[0m             \u001b[0mfile\u001b[0m\u001b[0;34m=\u001b[0m\u001b[0mfile\u001b[0m\u001b[0;34m,\u001b[0m\u001b[0;34m\u001b[0m\u001b[0;34m\u001b[0m\u001b[0m\n\u001b[1;32m    417\u001b[0m             \u001b[0mformat\u001b[0m\u001b[0;34m=\u001b[0m\u001b[0mformat\u001b[0m\u001b[0;34m,\u001b[0m\u001b[0;34m\u001b[0m\u001b[0;34m\u001b[0m\u001b[0m\n",
            "\u001b[0;32m/usr/local/lib/python3.9/dist-packages/rdflib/parser.py\u001b[0m in \u001b[0;36m_create_input_source_from_location\u001b[0;34m(file, format, input_source, location)\u001b[0m\n\u001b[1;32m    473\u001b[0m     \u001b[0;32mif\u001b[0m \u001b[0mabsolute_location\u001b[0m\u001b[0;34m.\u001b[0m\u001b[0mstartswith\u001b[0m\u001b[0;34m(\u001b[0m\u001b[0;34m\"file:///\"\u001b[0m\u001b[0;34m)\u001b[0m\u001b[0;34m:\u001b[0m\u001b[0;34m\u001b[0m\u001b[0;34m\u001b[0m\u001b[0m\n\u001b[1;32m    474\u001b[0m         \u001b[0mfilename\u001b[0m \u001b[0;34m=\u001b[0m \u001b[0murl2pathname\u001b[0m\u001b[0;34m(\u001b[0m\u001b[0mabsolute_location\u001b[0m\u001b[0;34m.\u001b[0m\u001b[0mreplace\u001b[0m\u001b[0;34m(\u001b[0m\u001b[0;34m\"file:///\"\u001b[0m\u001b[0;34m,\u001b[0m \u001b[0;34m\"/\"\u001b[0m\u001b[0;34m)\u001b[0m\u001b[0;34m)\u001b[0m\u001b[0;34m\u001b[0m\u001b[0;34m\u001b[0m\u001b[0m\n\u001b[0;32m--> 475\u001b[0;31m         \u001b[0mfile\u001b[0m \u001b[0;34m=\u001b[0m \u001b[0mopen\u001b[0m\u001b[0;34m(\u001b[0m\u001b[0mfilename\u001b[0m\u001b[0;34m,\u001b[0m \u001b[0;34m\"rb\"\u001b[0m\u001b[0;34m)\u001b[0m\u001b[0;34m\u001b[0m\u001b[0;34m\u001b[0m\u001b[0m\n\u001b[0m\u001b[1;32m    476\u001b[0m     \u001b[0;32melse\u001b[0m\u001b[0;34m:\u001b[0m\u001b[0;34m\u001b[0m\u001b[0;34m\u001b[0m\u001b[0m\n\u001b[1;32m    477\u001b[0m         \u001b[0minput_source\u001b[0m \u001b[0;34m=\u001b[0m \u001b[0mURLInputSource\u001b[0m\u001b[0;34m(\u001b[0m\u001b[0mabsolute_location\u001b[0m\u001b[0;34m,\u001b[0m \u001b[0mformat\u001b[0m\u001b[0;34m)\u001b[0m\u001b[0;34m\u001b[0m\u001b[0;34m\u001b[0m\u001b[0m\n",
            "\u001b[0;31mFileNotFoundError\u001b[0m: [Errno 2] No such file or directory: '/BASE   <http:/example.org/>PREFIX foaf: <http:/xmlns.com/foaf/0.1/>PREFIX xsd: <http:/www.w3.org/2001/XMLSchema#>PREFIX schema: <http://schema.org/>PREFIX dcterms: <http://purl.org/dc/terms/>PREFIX wd: <http://www.wikidata.org/entity/> <bob#me>   a foaf:Person ;   foaf:knows <alice#me> ;   schema:birthDate \"1990-07-04\"^^xsd:date ;   foaf:topic_interest wd:Q12418 .   wd:Q12418  dcterms:title \"Mona Lisa\" ;  dcterms:creator <http://dbpedia.org/resource/Leonardo_da_Vinci> .<http://data.europeana.eu/item/04802/243FA8618938F4117025F17A8B813C5F9AA4D619>  dcterms:subject wd:Q12418 .'"
          ]
        }
      ]
    },
    {
      "cell_type": "markdown",
      "source": [
        "## Task 2:  Print RDF graph as HTML table (1 pt)\n",
        "\n",
        "Implement a function `rdf2htmltable(g)` that \n",
        "- takes as parameter an rdflib.Graph \n",
        "- generates and displays an HTML table representing that graph with\n",
        "  - one line per RDF statement \n",
        "  - three columns (subject, predicate, object) \n",
        "  - URIs should be shown in abbreviated form and be represented as links (`href=<full URI>`)\n",
        "\n",
        "Test the function with `rdf_str` and with your solution to task `0. Intro` in the `1. RDF` sheet in `SemAI.jar`."
      ],
      "metadata": {
        "id": "yF2WQ0YsQbhH"
      }
    },
    {
      "cell_type": "code",
      "source": [
        "\n",
        "\n",
        "\n"
      ],
      "metadata": {
        "id": "Hz7PpFVjTkZG"
      },
      "execution_count": null,
      "outputs": []
    },
    {
      "cell_type": "markdown",
      "source": [
        "## Task 3: A function for parsing and displaying an RDF graph (1 pt)\n",
        "\n",
        "A function `parse_display_rdf(str)` that takes as parameter a string which represents an RDF graph in Turtle notation and \n",
        "- produces an rdflib.Graph from that string\n",
        "- prints the graph in Turte notation\n",
        "- prints the graph in RDF/XML\n",
        "- visualizes it using `visualize_graph` (to be taken from `V01_rdf.ipynb`)\n",
        "- visualizes it using (your improved version of) `visualize_graph_pyvis`\n",
        "- outputs it using `rdf2htmltable` (only if you have implemented this function)\n",
        "\n",
        "Test the function with `rdf_str` and with your solution to task `0. Intro` in the `1. RDF` sheet in `SemAI.jar`."
      ],
      "metadata": {
        "id": "AvL1cSUQQNFg"
      }
    },
    {
      "cell_type": "code",
      "source": [
        "\n",
        "\n",
        "\n"
      ],
      "metadata": {
        "id": "nr-PRsrzTnQP"
      },
      "execution_count": null,
      "outputs": []
    },
    {
      "cell_type": "markdown",
      "source": [
        "# Tasks 4-10 (1 point each)\n",
        "\n",
        "For each of the remaining 7 tasks in the \"1. RDF\" sheet in `SemAI.jar` do the following: \n",
        "- add a text cell in this notebook \n",
        "  - with the description of the task from `SemAI.jar` \n",
        "  - with number and title (e.g., **1. Simple Data Graph**)  from `SemAI.jar` as header \n",
        "- add a code cell where you apply `parse_display_rdf(str)` on your solution"
      ],
      "metadata": {
        "id": "6efAFC8dQexI"
      }
    },
    {
      "cell_type": "markdown",
      "source": [
        "# 1. Simple Data Graph\n",
        "Create an RDF graph in Turtle notation. Use the FOAF vocabulary to state the following.\n",
        "\n",
        "* Mary and Jim are persons.\n",
        "* Mary knows Jim.\n",
        "* Mary is 27 years old.\n",
        "The URIs for the two persons should be http://www.ex.org/person#Mary and http://www.ex.org/person#Jim. The age of Mary should be represented as an integer.\n",
        "```\n",
        "Solution\n",
        "@prefix rdf:  <http://www.w3.org/1999/02/22-rdf-syntax-ns#> .\n",
        "@prefix rdfs: <http://www.w3.org/2000/01/rdf-schema#> .\n",
        "@prefix xsd:  <http://www.w3.org/2001/XMLSchema#> .\n",
        "@prefix foaf: <http://xmlns.com/foaf/0.1/> .\n",
        "@prefix ex:     <http://www.ex.org/person#> .\n",
        "ex:Mary a foaf:Person ;\n",
        "    foaf:knows ex:Jim ;\n",
        "    foaf:age 27 .\n",
        "ex:Jim a foaf:Person .\n",
        "Feedback\n",
        "[1] Mary knows Jim\n",
        "[1] Mary is a Person\n",
        "[1] The graph contains exactly 4 statements.\n",
        "[1] Jim is a Person\n",
        "[1] Mary is 27 years old\n",
        "CORRECT: Your solution passed 5 of 5 checks.\n",
        "\n",
        "```\n",
        "\n"
      ],
      "metadata": {
        "id": "JzANRbRR_Ojz"
      }
    },
    {
      "cell_type": "markdown",
      "source": [
        "#2. Simple Schema\n",
        "Create a vocabulary using RDFS in Turtle. Specify\n",
        "\n",
        "* Classes Company, Employee, and Person\n",
        "* Property worksFor between Employee and Company\n",
        "* Property salary of Employee with Integer as data type\n",
        "* Class Employee is a subclass of Person\n",
        "\n",
        "Use XSD for data types. The URIs of classes and properties are in namespace <http://www.ex.org/vocabulary#>, for example, <http://www.ex.org/vocabulary#Company>\n",
        "\n",
        "\n",
        "```\n",
        "Solution\n",
        "@prefix rdf:  <http://www.w3.org/1999/02/22-rdf-syntax-ns#> .\n",
        "@prefix rdfs: <http://www.w3.org/2000/01/rdf-schema#> .\n",
        "@prefix xsd:  <http://www.w3.org/2001/XMLSchema#> .\n",
        "@prefix voc: <http://www.ex.org/vocabulary#> .\n",
        "\n",
        "voc:Company rdf:type rdfs:Class .\n",
        "voc:Employee rdf:type rdfs:Class .\n",
        "voc:Person rdf:type rdfs:Class .\n",
        "\n",
        "voc:worksFor rdf:type rdf:Property ;\n",
        "    rdfs:domain voc:Employee ;\n",
        "    rdfs:range voc:Company .\n",
        "\n",
        "voc:salary rdf:type rdf:Property ;\n",
        "    rdfs:domain voc:Employee ;\n",
        "    rdfs:range xsd:integer .\n",
        "\n",
        "voc:Employee rdfs:subClassOf voc:Person .\n",
        "Feedback\n",
        "[1] employee is a subclass of person\n",
        "[1] salary has employee as domain\n",
        "[1] The graph contains exactly 10 statements.\n",
        "[1] salary has integer as range\n",
        "[1] Company is a class.\n",
        "[1] worksFor has employee as domain\n",
        "[1] worksFor has company as range\n",
        "[1] Person is a class\n",
        "[1] salary is a property\n",
        "[1] Employee is a class\n",
        "[1] worksFor is a property\n",
        "CORRECT: Your solution passed 11 of 11 checks.\n",
        "```\n",
        "\n"
      ],
      "metadata": {
        "id": "csgNvNcdLgUV"
      }
    },
    {
      "cell_type": "markdown",
      "source": [
        "#3. Reification\n",
        "Create an RDF graph in Turtle notation. Use the RDF vocabulary where applicable and the example namesspace (ex:) for all other resources (ex:Mary, ex:John, ex:says, ex:loves). Hint: the lecture slides contain a similar reification example.\n",
        "\n",
        "* Mary says that John loves her.\n",
        "\n",
        "\n",
        "```\n",
        "Solution\n",
        "@prefix rdf:  <http://www.w3.org/1999/02/22-rdf-syntax-ns#> .\n",
        "@prefix ex:   <http://www.ex.org/> .\n",
        "ex:Mary ex:says [\n",
        "   rdf:subject ex:John ;\n",
        "   rdf:predicate ex:loves ;\n",
        "   rdf:object ex:Mary ;\n",
        "   rdf:type rdf:Statement\n",
        "] .\n",
        "Feedback\n",
        "[1] loves is the predicate of the reified statement\n",
        "[1] Mary says something which is classified as Statement\n",
        "[1] Mary is the object of the reified statement\n",
        "[1] John is the subject of the reified statement\n",
        "CORRECT: Your solution passed 4 of 4 checks.\n",
        "```\n",
        "\n",
        "\n"
      ],
      "metadata": {
        "id": "eN2SeqWJMCKV"
      }
    },
    {
      "cell_type": "markdown",
      "source": [
        "#4. Blank Node\n",
        "\n",
        "Create an RDF graph in Turtle notation. Use the RDF and FOAF vocabularies where applicable and the example namesspace (ex:) for the other resources.\n",
        "\n",
        "* John knows a person, who knows Mary.\n",
        "* Use a blank node to represent that anonymous person.\n",
        "```\n",
        "Solution\n",
        "@prefix rdf:  <http://www.w3.org/1999/02/22-rdf-syntax-ns#> .\n",
        "@prefix foaf: <http://xmlns.com/foaf/0.1/> .\n",
        "@prefix ex:   <http://www.ex.org/> .\n",
        "ex:Mary a foaf:Person .\n",
        "ex:John foaf:knows [\n",
        "    rdf:type foaf:Person ;\n",
        "    foaf:knows ex:Mary\n",
        "] .\n",
        "Feedback\n",
        "[1] John knows a Person\n",
        "[1] John knows someone who is a Person\n",
        "[1] John knows a Person who knows Mary and that person is represented as a blank node.\n",
        "[1] John knows a Person who knows Mary.\n",
        "CORRECT: Your solution passed 4 of 4 checks.\n",
        "```\n",
        "\n"
      ],
      "metadata": {
        "id": "olh9eGGGMTC9"
      }
    },
    {
      "cell_type": "markdown",
      "source": [
        "#5. Multiple Classification\n",
        "Create an RDF graph in Turtle notation. Use the RDF vocabulary where applicable and the example namesspace (ex:) for the other resources.\n",
        "\n",
        "* John is an instance of SoccerPlayer and of Student.\n",
        "\n",
        "\n",
        "```\n",
        "Solution\n",
        "@prefix rdf:  <http://www.w3.org/1999/02/22-rdf-syntax-ns#> .\n",
        "@prefix ex:   <http://www.ex.org/> .\n",
        "ex:John rdf:type ex:SoccerPlayer ;\n",
        "       rdf:type ex:Student .\n",
        "Feedback\n",
        "[1] John is an instance of SoccerPlayer\n",
        "[1] John is an instance of Student\n",
        "CORRECT: Your solution passed 2 of 2 checks.\n",
        "```\n",
        "\n"
      ],
      "metadata": {
        "id": "rFsnmDrrMjXt"
      }
    },
    {
      "cell_type": "markdown",
      "source": [
        "#6. Metamodeling\n",
        "Create an RDF graph in Turtle notation. Use the RDF and RDF Schema vocabularies where applicable and the example namesspace (ex:) for the other resources.\n",
        "\n",
        "* Dog and Cat are instances of Species and subclasses of Animal.\n",
        "* Lassie is an instance of Dog.\n",
        "\n",
        "```\n",
        "Solution\n",
        "@prefix rdf:  <http://www.w3.org/1999/02/22-rdf-syntax-ns#> .\n",
        "@prefix rdfs: <http://www.w3.org/2000/01/rdf-schema#> .\n",
        "@prefix ex:   <http://www.ex.org/> .\n",
        "ex:Dog rdf:type ex:Species ; rdfs:subClassOf ex:Animal . \n",
        "ex:Cat rdf:type ex:Species ; rdfs:subClassOf ex:Animal .\n",
        "ex:Lassie rdf:type ex:Dog .\n",
        "Feedback\n",
        "[1] Dog is an instance of Species\n",
        "[1] Dog is a subclass of Animal\n",
        "[1] Lassie is an instance of Dog\n",
        "[1] Cat is an instance of Species.\n",
        "[1] Cat is a subclass of Animal.\n",
        "CORRECT: Your solution passed 5 of 5 checks.\n",
        "```\n",
        "\n"
      ],
      "metadata": {
        "id": "AFE6ewFcMy-d"
      }
    },
    {
      "cell_type": "markdown",
      "source": [
        "#7. Properties\n",
        "Create an RDF graph in Turtle notation. Use the RDF and RDF Schema vocabularies where applicable and the example namesspace (ex:) for the other resources, e.g., ex:childOf, ex:descendantOf.\n",
        "\n",
        "* Everyone who is a child of someone, is also a descendant of that someone.\n",
        "\n",
        "\n",
        "```\n",
        "Solution\n",
        "@prefix rdf:  <http://www.w3.org/1999/02/22-rdf-syntax-ns#> .\n",
        "@prefix rdfs: <http://www.w3.org/2000/01/rdf-schema#> .\n",
        "@prefix ex:   <http://www.ex.org/> .\n",
        "\n",
        "ex:childOf\n",
        "   rdfs:subPropertyOf\n",
        "     ex:descendantOf .\n",
        "Feedback\n",
        "[1] every child-of relationship is also a descendant-of relationship\n",
        "CORRECT: Your solution passed 1 of 1 checks.\n",
        "```\n",
        "\n"
      ],
      "metadata": {
        "id": "JlmwWDyaNCxF"
      }
    }
  ],
  "metadata": {
    "kernelspec": {
      "display_name": "Python 3",
      "language": "python",
      "name": "python3"
    },
    "language_info": {
      "codemirror_mode": {
        "name": "ipython",
        "version": 3
      },
      "file_extension": ".py",
      "mimetype": "text/x-python",
      "name": "python",
      "nbconvert_exporter": "python",
      "pygments_lexer": "ipython3",
      "version": "3.6.7"
    },
    "colab": {
      "provenance": []
    }
  },
  "nbformat": 4,
  "nbformat_minor": 0
}